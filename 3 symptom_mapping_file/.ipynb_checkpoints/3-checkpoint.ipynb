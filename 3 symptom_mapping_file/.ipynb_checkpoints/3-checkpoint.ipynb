{
 "cells": [
  {
   "cell_type": "code",
   "execution_count": 1,
   "metadata": {},
   "outputs": [],
   "source": [
    "#3\n",
    "import json # a library used to save and load JSON files\n",
    "# the file with the symptom mapping\n",
    "symptom_mapping_file='symptom_mapping_v1.json'\n",
    "# open the mapping JSON file and load it into a dictionary\n",
    "with open(symptom_mapping_file) as f:\n",
    "    mapping=json.load(f)\n",
    "\n",
    "# print the JSON file\n",
    "print(json.dumps(mapping, indent=2))"
   ]
  },
  {
   "cell_type": "code",
   "execution_count": 2,
   "metadata": {},
   "outputs": [],
   "source": [
    "def diagnose_v1(patient_symptoms:list):\n",
    "\n",
    "    diagnosis=[] # قائمة تُستخدم للاحتفاظ بالتشخيصات المحتملة.\n",
    "\n",
    "    if \"vomiting\" in patient_symptoms:# اذا كان القيء موجود \n",
    "\n",
    "        if \"abdominal pain\" in patient_symptoms:#اذا كان الم في البطن موجود ايضا  \n",
    "\n",
    "            if \"diarrhea\" in patient_symptoms:#اذا كان الاسهال موجود \n",
    "\n",
    "                    # تم إضافة تشخيص \"التسمم الغذائي\" إلى قائمة التشخيصات.\n",
    "                    diagnosis.append('food poisoning') \n",
    "\n",
    "            elif 'fever' in patient_symptoms: #إذا كان \"حمى\" موجودة\n",
    "\n",
    " #يتم إضافة تشخيص \"التسمم الغذائي\" و\"التهاب الزائدة الدودية\".\n",
    "                    diagnosis.append('food poisoning')\n",
    "                    diagnosis.append('appendicitis')\n",
    "        #إذا كان \"ألم في الظهر السفلي\" و\"حمى\"\n",
    "        elif \"lower back pain\" in patient_symptoms and 'fever' in patient_symptoms:\n",
    "\n",
    "            # يتم إضافة تشخيص \"حصى الكلى\"\n",
    "            diagnosis.append('kidney stones')\n",
    "    #إذا كان \"ألم في البطن\"، و\"إسهال\"، و\"حمى\"\n",
    "    elif \"abdominal pain\" in patient_symptoms and\\\n",
    "         \"diarrhea\" in patient_symptoms and\\\n",
    "         \"fever\" in patient_symptoms:\\\n",
    "         # يتم إضافة تشخيص \"التسمم الغذائي\".\n",
    "         diagnosis.append('food poisoning')\n",
    "\n",
    "    return diagnosis"
   ]
  },
  {
   "cell_type": "code",
   "execution_count": 3,
   "metadata": {},
   "outputs": [
    {
     "name": "stdout",
     "output_type": "stream",
     "text": [
      "Most likely diagnosis ['food poisoning', 'appendicitis']\n"
     ]
    }
   ],
   "source": [
    "my_symptoms=['abdominal pain','fever','vomiting']\n",
    "diagonsis=diagnose_v1(my_symptoms)\n",
    "print('Most likely diagnosis',diagonsis)"
   ]
  },
  {
   "cell_type": "code",
   "execution_count": 4,
   "metadata": {},
   "outputs": [
    {
     "name": "stdout",
     "output_type": "stream",
     "text": [
      "Most likely diagnosis ['kidney stones']\n"
     ]
    }
   ],
   "source": [
    "my_symptoms=['vomiting', 'lower back pain', 'fever' ]\n",
    "diagonsis=diagnose_v1(my_symptoms)\n",
    "print('Most likely diagnosis',diagonsis)"
   ]
  },
  {
   "cell_type": "code",
   "execution_count": 5,
   "metadata": {},
   "outputs": [
    {
     "name": "stdout",
     "output_type": "stream",
     "text": [
      "Most likely diagnosis: []\n"
     ]
    }
   ],
   "source": [
    "my_symptoms=['fever', 'cough', 'vomiting']\n",
    "diagnosis=diagnose_v1(my_symptoms)\n",
    "print('Most likely diagnosis:',diagnosis)"
   ]
  },
  {
   "cell_type": "code",
   "execution_count": 6,
   "metadata": {},
   "outputs": [],
   "source": [
    "#الاصدار الثاني \n"
   ]
  },
  {
   "cell_type": "code",
   "execution_count": 7,
   "metadata": {},
   "outputs": [
    {
     "name": "stdout",
     "output_type": "stream",
     "text": [
      "{\n",
      "  \"diseases\": {\n",
      "    \"covid19\": [\n",
      "      \"fever\",\n",
      "      \"headache\",\n",
      "      \"tiredness\",\n",
      "      \"sore throat\",\n",
      "      \"cough\"\n",
      "    ],\n",
      "    \"common cold\": [\n",
      "      \"stuffy nose\",\n",
      "      \"runny nose\",\n",
      "      \"sneezing\",\n",
      "      \"sore throat\",\n",
      "      \"cough\"\n",
      "    ],\n",
      "    \"flu\": [\n",
      "      \"fever\",\n",
      "      \"headache\",\n",
      "      \"tiredness\",\n",
      "      \"stuffy nose\",\n",
      "      \"sneezing\",\n",
      "      \"sore throat\",\n",
      "      \"cough\",\n",
      "      \"runny nose\"\n",
      "    ],\n",
      "    \"allergies\": [\n",
      "      \"headache\",\n",
      "      \"tiredness\",\n",
      "      \"stuffy nose\",\n",
      "      \"sneezing\",\n",
      "      \"cough\",\n",
      "      \"runny nose\"\n",
      "    ]\n",
      "  }\n",
      "}\n"
     ]
    }
   ],
   "source": [
    "symptom_mapping_file='symptom_mapping_v2.json'\n",
    "with open(symptom_mapping_file) as f:\n",
    " mapping=json.load(f)\n",
    "\n",
    "print(json.dumps(mapping, indent=2))"
   ]
  },
  {
   "cell_type": "code",
   "execution_count": 8,
   "metadata": {},
   "outputs": [],
   "source": [
    "def diagnose_v2(patient_symptoms:list,\n",
    "                symptom_mapping_file:str,\n",
    "                matching_symptoms_lower_bound:int):\n",
    "\n",
    "    diagnosis=[]\n",
    "\n",
    "    with open(symptom_mapping_file) as f:\n",
    "        mapping=json.load(f)\n",
    "\n",
    "    \n",
    "    disease_info=mapping['diseases']\n",
    "\n",
    "    for disease in disease_info:\n",
    "\n",
    "        counter=0\n",
    "\n",
    "        disease_symptoms=disease_info[disease]\n",
    "\n",
    "\n",
    "        for symptom in patient_symptoms:\n",
    "\n",
    "            if symptom in disease_symptoms:\n",
    "\n",
    "                 counter+=1\n",
    "\n",
    "        if counter>=matching_symptoms_lower_bound:\n",
    "            diagnosis.append(disease)\n",
    "\n",
    "    return diagnosis"
   ]
  },
  {
   "cell_type": "code",
   "execution_count": 9,
   "metadata": {},
   "outputs": [
    {
     "name": "stdout",
     "output_type": "stream",
     "text": [
      "Most likely diagnosis: ['common cold', 'flu', 'allergies']\n",
      "Most likely diagnosis: ['common cold', 'flu']\n",
      "Most likely diagnosis: []\n"
     ]
    }
   ],
   "source": [
    "my_symptoms=[\"stuffy nose\", \"runny nose\", \"sneezing\", \"sore throat\"]\n",
    "diagnosis=diagnose_v2(my_symptoms,'symptom_mapping_v2.json' , 3)\n",
    "print('Most likely diagnosis:',diagnosis)\n",
    "\n",
    "# Patient 2\n",
    "my_symptoms=[\"stuffy nose\", \"runny nose\", \"sneezing\", \"sore throat\"]\n",
    "diagnosis=diagnose_v2(my_symptoms, 'symptom_mapping_v2.json' , 4)\n",
    "print('Most likely diagnosis:',diagnosis)\n",
    "\n",
    "# Patient 3\n",
    "my_symptoms=['fever', 'cough', 'vomiting']\n",
    "diagnosis=diagnose_v2(my_symptoms, 'symptom_mapping_v2.json' , 3)\n",
    "print('Most likely diagnosis:',diagnosis)"
   ]
  },
  {
   "cell_type": "code",
   "execution_count": 10,
   "metadata": {},
   "outputs": [],
   "source": [
    "#الاصدار الرابع"
   ]
  },
  {
   "cell_type": "code",
   "execution_count": 13,
   "metadata": {},
   "outputs": [
    {
     "ename": "UnicodeDecodeError",
     "evalue": "'utf-8' codec can't decode byte 0xa0 in position 0: invalid start byte",
     "output_type": "error",
     "traceback": [
      "\u001b[1;31m---------------------------------------------------------------------------\u001b[0m",
      "\u001b[1;31mUnicodeDecodeError\u001b[0m                        Traceback (most recent call last)",
      "\u001b[1;32m<ipython-input-13-e4434974da0a>\u001b[0m in \u001b[0;36m<module>\u001b[1;34m\u001b[0m\n\u001b[0;32m      1\u001b[0m \u001b[1;32mimport\u001b[0m \u001b[0mpandas\u001b[0m \u001b[1;32mas\u001b[0m \u001b[0mpd\u001b[0m\u001b[1;33m\u001b[0m\u001b[1;33m\u001b[0m\u001b[0m\n\u001b[1;32m----> 2\u001b[1;33m \u001b[0mmedical_dataset\u001b[0m\u001b[1;33m=\u001b[0m\u001b[0mpd\u001b[0m\u001b[1;33m.\u001b[0m\u001b[0mread_csv\u001b[0m\u001b[1;33m(\u001b[0m\u001b[1;34m'./Liver_Patient_Dataset.csv'\u001b[0m\u001b[1;33m)\u001b[0m\u001b[1;33m\u001b[0m\u001b[1;33m\u001b[0m\u001b[0m\n\u001b[0m\u001b[0;32m      3\u001b[0m \u001b[0mmedical_dataset\u001b[0m\u001b[1;33m\u001b[0m\u001b[1;33m\u001b[0m\u001b[0m\n",
      "\u001b[1;32m~\\anaconda3\\lib\\site-packages\\pandas\\io\\parsers.py\u001b[0m in \u001b[0;36mread_csv\u001b[1;34m(filepath_or_buffer, sep, delimiter, header, names, index_col, usecols, squeeze, prefix, mangle_dupe_cols, dtype, engine, converters, true_values, false_values, skipinitialspace, skiprows, skipfooter, nrows, na_values, keep_default_na, na_filter, verbose, skip_blank_lines, parse_dates, infer_datetime_format, keep_date_col, date_parser, dayfirst, cache_dates, iterator, chunksize, compression, thousands, decimal, lineterminator, quotechar, quoting, doublequote, escapechar, comment, encoding, dialect, error_bad_lines, warn_bad_lines, delim_whitespace, low_memory, memory_map, float_precision)\u001b[0m\n\u001b[0;32m    684\u001b[0m     )\n\u001b[0;32m    685\u001b[0m \u001b[1;33m\u001b[0m\u001b[0m\n\u001b[1;32m--> 686\u001b[1;33m     \u001b[1;32mreturn\u001b[0m \u001b[0m_read\u001b[0m\u001b[1;33m(\u001b[0m\u001b[0mfilepath_or_buffer\u001b[0m\u001b[1;33m,\u001b[0m \u001b[0mkwds\u001b[0m\u001b[1;33m)\u001b[0m\u001b[1;33m\u001b[0m\u001b[1;33m\u001b[0m\u001b[0m\n\u001b[0m\u001b[0;32m    687\u001b[0m \u001b[1;33m\u001b[0m\u001b[0m\n\u001b[0;32m    688\u001b[0m \u001b[1;33m\u001b[0m\u001b[0m\n",
      "\u001b[1;32m~\\anaconda3\\lib\\site-packages\\pandas\\io\\parsers.py\u001b[0m in \u001b[0;36m_read\u001b[1;34m(filepath_or_buffer, kwds)\u001b[0m\n\u001b[0;32m    450\u001b[0m \u001b[1;33m\u001b[0m\u001b[0m\n\u001b[0;32m    451\u001b[0m     \u001b[1;31m# Create the parser.\u001b[0m\u001b[1;33m\u001b[0m\u001b[1;33m\u001b[0m\u001b[1;33m\u001b[0m\u001b[0m\n\u001b[1;32m--> 452\u001b[1;33m     \u001b[0mparser\u001b[0m \u001b[1;33m=\u001b[0m \u001b[0mTextFileReader\u001b[0m\u001b[1;33m(\u001b[0m\u001b[0mfp_or_buf\u001b[0m\u001b[1;33m,\u001b[0m \u001b[1;33m**\u001b[0m\u001b[0mkwds\u001b[0m\u001b[1;33m)\u001b[0m\u001b[1;33m\u001b[0m\u001b[1;33m\u001b[0m\u001b[0m\n\u001b[0m\u001b[0;32m    453\u001b[0m \u001b[1;33m\u001b[0m\u001b[0m\n\u001b[0;32m    454\u001b[0m     \u001b[1;32mif\u001b[0m \u001b[0mchunksize\u001b[0m \u001b[1;32mor\u001b[0m \u001b[0miterator\u001b[0m\u001b[1;33m:\u001b[0m\u001b[1;33m\u001b[0m\u001b[1;33m\u001b[0m\u001b[0m\n",
      "\u001b[1;32m~\\anaconda3\\lib\\site-packages\\pandas\\io\\parsers.py\u001b[0m in \u001b[0;36m__init__\u001b[1;34m(self, f, engine, **kwds)\u001b[0m\n\u001b[0;32m    944\u001b[0m             \u001b[0mself\u001b[0m\u001b[1;33m.\u001b[0m\u001b[0moptions\u001b[0m\u001b[1;33m[\u001b[0m\u001b[1;34m\"has_index_names\"\u001b[0m\u001b[1;33m]\u001b[0m \u001b[1;33m=\u001b[0m \u001b[0mkwds\u001b[0m\u001b[1;33m[\u001b[0m\u001b[1;34m\"has_index_names\"\u001b[0m\u001b[1;33m]\u001b[0m\u001b[1;33m\u001b[0m\u001b[1;33m\u001b[0m\u001b[0m\n\u001b[0;32m    945\u001b[0m \u001b[1;33m\u001b[0m\u001b[0m\n\u001b[1;32m--> 946\u001b[1;33m         \u001b[0mself\u001b[0m\u001b[1;33m.\u001b[0m\u001b[0m_make_engine\u001b[0m\u001b[1;33m(\u001b[0m\u001b[0mself\u001b[0m\u001b[1;33m.\u001b[0m\u001b[0mengine\u001b[0m\u001b[1;33m)\u001b[0m\u001b[1;33m\u001b[0m\u001b[1;33m\u001b[0m\u001b[0m\n\u001b[0m\u001b[0;32m    947\u001b[0m \u001b[1;33m\u001b[0m\u001b[0m\n\u001b[0;32m    948\u001b[0m     \u001b[1;32mdef\u001b[0m \u001b[0mclose\u001b[0m\u001b[1;33m(\u001b[0m\u001b[0mself\u001b[0m\u001b[1;33m)\u001b[0m\u001b[1;33m:\u001b[0m\u001b[1;33m\u001b[0m\u001b[1;33m\u001b[0m\u001b[0m\n",
      "\u001b[1;32m~\\anaconda3\\lib\\site-packages\\pandas\\io\\parsers.py\u001b[0m in \u001b[0;36m_make_engine\u001b[1;34m(self, engine)\u001b[0m\n\u001b[0;32m   1176\u001b[0m     \u001b[1;32mdef\u001b[0m \u001b[0m_make_engine\u001b[0m\u001b[1;33m(\u001b[0m\u001b[0mself\u001b[0m\u001b[1;33m,\u001b[0m \u001b[0mengine\u001b[0m\u001b[1;33m=\u001b[0m\u001b[1;34m\"c\"\u001b[0m\u001b[1;33m)\u001b[0m\u001b[1;33m:\u001b[0m\u001b[1;33m\u001b[0m\u001b[1;33m\u001b[0m\u001b[0m\n\u001b[0;32m   1177\u001b[0m         \u001b[1;32mif\u001b[0m \u001b[0mengine\u001b[0m \u001b[1;33m==\u001b[0m \u001b[1;34m\"c\"\u001b[0m\u001b[1;33m:\u001b[0m\u001b[1;33m\u001b[0m\u001b[1;33m\u001b[0m\u001b[0m\n\u001b[1;32m-> 1178\u001b[1;33m             \u001b[0mself\u001b[0m\u001b[1;33m.\u001b[0m\u001b[0m_engine\u001b[0m \u001b[1;33m=\u001b[0m \u001b[0mCParserWrapper\u001b[0m\u001b[1;33m(\u001b[0m\u001b[0mself\u001b[0m\u001b[1;33m.\u001b[0m\u001b[0mf\u001b[0m\u001b[1;33m,\u001b[0m \u001b[1;33m**\u001b[0m\u001b[0mself\u001b[0m\u001b[1;33m.\u001b[0m\u001b[0moptions\u001b[0m\u001b[1;33m)\u001b[0m\u001b[1;33m\u001b[0m\u001b[1;33m\u001b[0m\u001b[0m\n\u001b[0m\u001b[0;32m   1179\u001b[0m         \u001b[1;32melse\u001b[0m\u001b[1;33m:\u001b[0m\u001b[1;33m\u001b[0m\u001b[1;33m\u001b[0m\u001b[0m\n\u001b[0;32m   1180\u001b[0m             \u001b[1;32mif\u001b[0m \u001b[0mengine\u001b[0m \u001b[1;33m==\u001b[0m \u001b[1;34m\"python\"\u001b[0m\u001b[1;33m:\u001b[0m\u001b[1;33m\u001b[0m\u001b[1;33m\u001b[0m\u001b[0m\n",
      "\u001b[1;32m~\\anaconda3\\lib\\site-packages\\pandas\\io\\parsers.py\u001b[0m in \u001b[0;36m__init__\u001b[1;34m(self, src, **kwds)\u001b[0m\n\u001b[0;32m   2006\u001b[0m         \u001b[0mkwds\u001b[0m\u001b[1;33m[\u001b[0m\u001b[1;34m\"usecols\"\u001b[0m\u001b[1;33m]\u001b[0m \u001b[1;33m=\u001b[0m \u001b[0mself\u001b[0m\u001b[1;33m.\u001b[0m\u001b[0musecols\u001b[0m\u001b[1;33m\u001b[0m\u001b[1;33m\u001b[0m\u001b[0m\n\u001b[0;32m   2007\u001b[0m \u001b[1;33m\u001b[0m\u001b[0m\n\u001b[1;32m-> 2008\u001b[1;33m         \u001b[0mself\u001b[0m\u001b[1;33m.\u001b[0m\u001b[0m_reader\u001b[0m \u001b[1;33m=\u001b[0m \u001b[0mparsers\u001b[0m\u001b[1;33m.\u001b[0m\u001b[0mTextReader\u001b[0m\u001b[1;33m(\u001b[0m\u001b[0msrc\u001b[0m\u001b[1;33m,\u001b[0m \u001b[1;33m**\u001b[0m\u001b[0mkwds\u001b[0m\u001b[1;33m)\u001b[0m\u001b[1;33m\u001b[0m\u001b[1;33m\u001b[0m\u001b[0m\n\u001b[0m\u001b[0;32m   2009\u001b[0m         \u001b[0mself\u001b[0m\u001b[1;33m.\u001b[0m\u001b[0munnamed_cols\u001b[0m \u001b[1;33m=\u001b[0m \u001b[0mself\u001b[0m\u001b[1;33m.\u001b[0m\u001b[0m_reader\u001b[0m\u001b[1;33m.\u001b[0m\u001b[0munnamed_cols\u001b[0m\u001b[1;33m\u001b[0m\u001b[1;33m\u001b[0m\u001b[0m\n\u001b[0;32m   2010\u001b[0m \u001b[1;33m\u001b[0m\u001b[0m\n",
      "\u001b[1;32mpandas\\_libs\\parsers.pyx\u001b[0m in \u001b[0;36mpandas._libs.parsers.TextReader.__cinit__\u001b[1;34m()\u001b[0m\n",
      "\u001b[1;32mpandas\\_libs\\parsers.pyx\u001b[0m in \u001b[0;36mpandas._libs.parsers.TextReader._get_header\u001b[1;34m()\u001b[0m\n",
      "\u001b[1;31mUnicodeDecodeError\u001b[0m: 'utf-8' codec can't decode byte 0xa0 in position 0: invalid start byte"
     ]
    }
   ],
   "source": [
    "import pandas as pd \n",
    "medical_dataset=pd.read_csv('/Liver_Patient_Dataset.csv')\n",
    "medical_dataset"
   ]
  },
  {
   "cell_type": "code",
   "execution_count": null,
   "metadata": {},
   "outputs": [],
   "source": []
  }
 ],
 "metadata": {
  "kernelspec": {
   "display_name": "Python 3",
   "language": "python",
   "name": "python3"
  },
  "language_info": {
   "codemirror_mode": {
    "name": "ipython",
    "version": 3
   },
   "file_extension": ".py",
   "mimetype": "text/x-python",
   "name": "python",
   "nbconvert_exporter": "python",
   "pygments_lexer": "ipython3",
   "version": "3.8.5"
  }
 },
 "nbformat": 4,
 "nbformat_minor": 4
}
