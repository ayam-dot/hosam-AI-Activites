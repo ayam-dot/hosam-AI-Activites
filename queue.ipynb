{
 "cells": [
  {
   "cell_type": "code",
   "execution_count": 1,
   "metadata": {},
   "outputs": [
    {
     "name": "stdout",
     "output_type": "stream",
     "text": [
      "الطابور الأصلي: [1, 21, 32, 45]\n",
      " حذف العنصر: 45\n",
      "  حذف العنصر الأول: [1, 21, 32]\n",
      "تم حذف العنصر: 1\n",
      "  حذف العنصر الاخير: [21, 32]\n",
      "  إضافة العنصر 50: [21, 32, 50]\n",
      "  إضافة العنصر 50 من البداية: [50, 21, 32, 50]\n"
     ]
    }
   ],
   "source": [
    "from collections import deque  \n",
    "\n",
    "# إنشاء الطابور  \n",
    "queue = deque([1, 21, 32, 45])  \n",
    "\n",
    "print(\"الطابور الأصلي:\", list(queue))  \n",
    "\n",
    "removed_first = queue.pop()  \n",
    "print(\" حذف العنصر:\", removed_first)  \n",
    "print(\"  حذف العنصر الأول:\", list(queue))  \n",
    "\n",
    "removed_second = queue.popleft()  \n",
    "print(\"تم حذف العنصر:\", removed_second)  \n",
    "print(\"  حذف العنصر الاخير:\", list(queue)) \n",
    "queue.append(50)  \n",
    "print(\"  إضافة العنصر 50:\", list(queue))\n",
    "queue.appendleft(50)  \n",
    "print(\"  إضافة العنصر 50 من البداية:\", list(queue))  \n"
   ]
  },
  {
   "cell_type": "code",
   "execution_count": null,
   "metadata": {},
   "outputs": [],
   "source": []
  }
 ],
 "metadata": {
  "kernelspec": {
   "display_name": "Python 3",
   "language": "python",
   "name": "python3"
  },
  "language_info": {
   "codemirror_mode": {
    "name": "ipython",
    "version": 3
   },
   "file_extension": ".py",
   "mimetype": "text/x-python",
   "name": "python",
   "nbconvert_exporter": "python",
   "pygments_lexer": "ipython3",
   "version": "3.8.5"
  }
 },
 "nbformat": 4,
 "nbformat_minor": 4
}
