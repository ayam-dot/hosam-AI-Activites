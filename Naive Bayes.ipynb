{
 "cells": [
  {
   "cell_type": "code",
   "execution_count": 8,
   "metadata": {},
   "outputs": [
    {
     "name": "stdout",
     "output_type": "stream",
     "text": [
      "دقة النموذج: 0.3333333333333333\n",
      "مصفوفة الالتباس:\n",
      " [[1 0 0]\n",
      " [0 0 1]\n",
      " [1 0 0]]\n",
      "توقع لنوع الفاكهة بوزن: 160 جرام وقطر: 7 سم: موز\n"
     ]
    }
   ],
   "source": [
    "import pandas as pd  \n",
    "from sklearn.model_selection import train_test_split  \n",
    "from sklearn.naive_bayes import GaussianNB  \n",
    "from sklearn import metrics  \n",
    "\n",
    "# مجموعة بيانات   \n",
    "data_fruits = {  \n",
    "    'Weight': [130, 150, 140, 120, 160, 180, 110, 170, 175, 155],  \n",
    "    'Diameter': [6, 6.5, 6, 5.5, 7, 7.5, 5, 7.2, 7.1, 6.8],  \n",
    "    'Fruit': ['تفاح', 'تفاح', 'تفاح', 'موز', 'موز', 'موز', 'برتقال', 'برتقال', 'برتقال', 'فراولة']  \n",
    "}  \n",
    "\n",
    "df_fruits = pd.DataFrame(data_fruits)  \n",
    "\n",
    "\n",
    "X_fruits = df_fruits[['Weight', 'Diameter']]  \n",
    "y_fruits = df_fruits['Fruit']  \n",
    "\n",
    "\n",
    "X_train_fruits, X_test_fruits, y_train_fruits, y_test_fruits = train_test_split(X_fruits, y_fruits, test_size=0.3, random_state=42)  \n",
    "\n",
    "\n",
    "nb_fruits = GaussianNB()  \n",
    "nb_fruits.fit(X_train_fruits, y_train_fruits)  \n",
    "\n",
    "# التنبؤ على مجموعة الاختبار وتقييم الدقة  \n",
    "y_pred_fruits = nb_fruits.predict(X_test_fruits)  \n",
    "accuracy_fruits = metrics.accuracy_score(y_test_fruits, y_pred_fruits)  \n",
    "conf_matrix_fruits = metrics.confusion_matrix(y_test_fruits, y_pred_fruits)  \n",
    "\n",
    "  \n",
    "print(f\"دقة النموذج: {accuracy_fruits}\")  \n",
    "print(f\"مصفوفة الالتباس:\\n {conf_matrix_fruits}\")  \n",
    "\n",
    "# توقع لنوع فاكهة جديدة بناءً على الوزن والقطر  \n",
    "new_fruit_weight = 160  \n",
    "new_fruit_diameter = 7  \n",
    "predicted_fruit = nb_fruits.predict([[new_fruit_weight, new_fruit_diameter]])  \n",
    "print(f'توقع لنوع الفاكهة بوزن: {new_fruit_weight} جرام وقطر: {new_fruit_diameter} سم: {predicted_fruit[0]}')"
   ]
  },
  {
   "cell_type": "code",
   "execution_count": null,
   "metadata": {},
   "outputs": [],
   "source": []
  }
 ],
 "metadata": {
  "kernelspec": {
   "display_name": "Python 3",
   "language": "python",
   "name": "python3"
  },
  "language_info": {
   "codemirror_mode": {
    "name": "ipython",
    "version": 3
   },
   "file_extension": ".py",
   "mimetype": "text/x-python",
   "name": "python",
   "nbconvert_exporter": "python",
   "pygments_lexer": "ipython3",
   "version": "3.8.5"
  }
 },
 "nbformat": 4,
 "nbformat_minor": 4
}
